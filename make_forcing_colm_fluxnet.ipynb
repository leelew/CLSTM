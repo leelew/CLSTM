{
 "cells": [
  {
   "cell_type": "code",
   "execution_count": 1,
   "metadata": {},
   "outputs": [
    {
     "name": "stdout",
     "output_type": "stream",
     "text": [
      "tensorflow version is 2.1.0\n"
     ]
    }
   ],
   "source": [
    "from CausalLSTM.data import make_forcing_colm_fluxnet\n",
    "\n",
    "\n",
    "ROOT = '/hard/lilu/Fluxnet/HH/'\n",
    "PATH = ROOT + 'FLX_US-Blo_FLUXNET2015_FULLSET_HH_1997-2007_1-3.csv'\n",
    "\n",
    "make_forcing_colm_fluxnet(\n",
    "        PATH=PATH,\n",
    "        forcing_params=[\n",
    "            'SW_IN_F_MDS', 'LW_IN_F_MDS',\n",
    "            'P_F', 'TA_F_MDS', 'WS_F',\n",
    "            'PA_F', 'RH'],\n",
    "        site_name='US-Blo')"
   ]
  },
  {
   "cell_type": "code",
   "execution_count": null,
   "metadata": {},
   "outputs": [],
   "source": []
  }
 ],
 "metadata": {
  "kernelspec": {
   "display_name": "Python 3",
   "language": "python",
   "name": "python3"
  },
  "language_info": {
   "codemirror_mode": {
    "name": "ipython",
    "version": 3
   },
   "file_extension": ".py",
   "mimetype": "text/x-python",
   "name": "python",
   "nbconvert_exporter": "python",
   "pygments_lexer": "ipython3",
   "version": "3.7.0"
  }
 },
 "nbformat": 4,
 "nbformat_minor": 4
}
